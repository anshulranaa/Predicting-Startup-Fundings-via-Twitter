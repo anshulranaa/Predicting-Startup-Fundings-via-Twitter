{
 "cells": [
  {
   "cell_type": "code",
   "execution_count": null,
   "metadata": {},
   "outputs": [],
   "source": [
    "from bs4 import BeautifulSoup\n",
    "import requests\n",
    "\n",
    "import pandas as pd\n",
    "from datetime import datetime\n",
    "import re\n",
    "import matplotlib.pyplot as plt\n",
    "import seaborn as sns\n",
    "\n",
    "%matplotlib inline\n",
    "\n",
    "import warnings\n",
    "warnings.filterwarnings('ignore')"
   ]
  },
  {
   "cell_type": "code",
   "execution_count": null,
   "metadata": {},
   "outputs": [
    {
     "data": {
      "text/plain": [
       "200"
      ]
     },
     "metadata": {},
     "output_type": "display_data"
    }
   ],
   "source": [
    "start_url = \"https://trak.in/india-startup-funding-investment-2015/\"\n",
    "html_response = requests.get(start_url)\n",
    "html_response.status_code # code 200 means connecition was sucessful and it is now active"
   ]
  },
  {
   "cell_type": "code",
   "execution_count": null,
   "metadata": {},
   "outputs": [],
   "source": [
    "soup = BeautifulSoup(html_response.content, 'html.parser')\n",
    "#print(soup.prettify())"
   ]
  },
  {
   "cell_type": "code",
   "execution_count": null,
   "metadata": {},
   "outputs": [
    {
     "data": {
      "text/plain": [
       "['https://trak.in/india-startup-funding-investment-2015/',\n",
       " 'https://trak.in/indian-startup-funding-and-investment-chart-january-2018/',\n",
       " 'https://trak.in/indian-startup-funding-and-investment-chart-february-2018/',\n",
       " 'https://trak.in/indian-startup-funding-and-investment-chart-march-2018/',\n",
       " 'https://trak.in/indian-startup-funding-investment-chart-april-2018/']"
      ]
     },
     "metadata": {},
     "output_type": "display_data"
    }
   ],
   "source": [
    "more_data_urls = [start_url]\n",
    "\n",
    "for h3_tag in soup.find_all(name=\"h3\"):\n",
    "    more_data_urls.append(h3_tag.find(name='a').get('href'))\n",
    "\n",
    "more_data_urls[:5]"
   ]
  },
  {
   "cell_type": "code",
   "execution_count": null,
   "metadata": {},
   "outputs": [
    {
     "name": "stdout",
     "output_type": "stream",
     "text": [
      "Data shape : (3511, 9)\n"
     ]
    }
   ],
   "source": [
    "import pandas as pd\n",
    "\n",
    "new_row_list = []\n",
    "column_name = ['Sr. No.', 'Date (dd/mm/yyyy)', 'Startup Name', 'Industry/ Vertical', 'Sub-Vertical', 'City / Location', 'Investors’ Name', 'Investment Type', 'Amount (in USD)']\n",
    "more_data_urls = set(more_data_urls)\n",
    "\n",
    "urls_count = 1\n",
    "for url in more_data_urls:\n",
    "    html_response = requests.get(url)\n",
    "    html_response.status_code\n",
    "    soup = BeautifulSoup(html_response.content, 'html.parser')\n",
    "    \n",
    "    class_list = []\n",
    "    for element in soup.find_all(class_=True):\n",
    "        class_list.extend(element[\"class\"])\n",
    "    class_list = [cls for cls in class_list if 'tablepress-id-' in cls] \n",
    "    \n",
    "    if len(class_list) < 1:\n",
    "        skip_first_row = True\n",
    "        class_list.append(None)\n",
    "        for class_ in class_list:\n",
    "            tbl=soup.find(name='table') #, class_=class_)\n",
    "\n",
    "            n_rows = 0\n",
    "            for tr in tbl.find_all('tr'):\n",
    "                if skip_first_row == True:\n",
    "                    skip_first_row = False\n",
    "                    continue\n",
    "                new_row = {}\n",
    "                for col_id, td in enumerate(tr.find_all('td')):\n",
    "                    if col_id < len(column_name):\n",
    "                        new_row[column_name[col_id]] = td.text\n",
    "                if not new_row == {}:\n",
    "                    n_rows += 1\n",
    "                    new_row_list.append(new_row)\n",
    "            #print(\"class_list-old:\", class_, len(new_row_list), n_rows, url)\n",
    "    else:\n",
    "        for class_ in class_list:\n",
    "            tbl=soup.find(name='table', class_=class_)\n",
    "\n",
    "            n_rows = 0\n",
    "            for tr in tbl.find_all('tr'):\n",
    "                new_row = {}\n",
    "                for col_id, td in enumerate(tr.find_all('td')):\n",
    "                    if col_id < len(column_name):\n",
    "                        new_row[column_name[col_id]] = td.text\n",
    "                if not new_row == {}:\n",
    "                    n_rows += 1\n",
    "                    new_row_list.append(new_row)\n",
    "            #print(\"class_list-new :\", class_, len(new_row_list), n_rows, url)\n",
    "\n",
    "data = pd.DataFrame(new_row_list, columns=column_name)\n",
    "print(\"Data shape :\", data.shape)"
   ]
  },
  {
   "cell_type": "code",
   "execution_count": null,
   "metadata": {},
   "outputs": [
    {
     "data": {
      "text/html": [
       "<div>\n",
       "<style scoped>\n",
       "    .dataframe tbody tr th:only-of-type {\n",
       "        vertical-align: middle;\n",
       "    }\n",
       "\n",
       "    .dataframe tbody tr th {\n",
       "        vertical-align: top;\n",
       "    }\n",
       "\n",
       "    .dataframe thead th {\n",
       "        text-align: right;\n",
       "    }\n",
       "</style>\n",
       "<table border=\"1\" class=\"dataframe\">\n",
       "  <thead>\n",
       "    <tr style=\"text-align: right;\">\n",
       "      <th></th>\n",
       "      <th>Sr. No.</th>\n",
       "      <th>Date (dd/mm/yyyy)</th>\n",
       "      <th>Startup Name</th>\n",
       "      <th>Industry/ Vertical</th>\n",
       "      <th>Sub-Vertical</th>\n",
       "      <th>City / Location</th>\n",
       "      <th>Investors’ Name</th>\n",
       "      <th>Investment Type</th>\n",
       "      <th>Amount (in USD)</th>\n",
       "    </tr>\n",
       "  </thead>\n",
       "  <tbody>\n",
       "    <tr>\n",
       "      <th>0</th>\n",
       "      <td>1</td>\n",
       "      <td>02/02/2017</td>\n",
       "      <td>Clodura</td>\n",
       "      <td>Technology</td>\n",
       "      <td>Intelligent Sales Assistant</td>\n",
       "      <td>Pune</td>\n",
       "      <td>Undisclosed Investors</td>\n",
       "      <td>Seed Funding</td>\n",
       "      <td>N/A</td>\n",
       "    </tr>\n",
       "    <tr>\n",
       "      <th>1</th>\n",
       "      <td>2</td>\n",
       "      <td>03/02/2017</td>\n",
       "      <td>Stockroom.io</td>\n",
       "      <td>Consumer Internet</td>\n",
       "      <td>Curated Platform for Developers</td>\n",
       "      <td>Hyderabad</td>\n",
       "      <td>Satya D Sinha, Gyanendra Singh</td>\n",
       "      <td>Seed Funding</td>\n",
       "      <td>N/A</td>\n",
       "    </tr>\n",
       "    <tr>\n",
       "      <th>2</th>\n",
       "      <td>3</td>\n",
       "      <td>06/02/2017</td>\n",
       "      <td>Capital Float</td>\n",
       "      <td>Consumer Internet</td>\n",
       "      <td>Online lending platform</td>\n",
       "      <td>Bangalore</td>\n",
       "      <td>IFMR Capital Finance</td>\n",
       "      <td>Private Equity</td>\n",
       "      <td>2,500,000</td>\n",
       "    </tr>\n",
       "    <tr>\n",
       "      <th>3</th>\n",
       "      <td>4</td>\n",
       "      <td>06/02/2017</td>\n",
       "      <td>iManageMyHotel</td>\n",
       "      <td>Technology</td>\n",
       "      <td>Hotel Management Solution</td>\n",
       "      <td>Kolkata</td>\n",
       "      <td>Jaarvis Accelerator</td>\n",
       "      <td>Seed Funding</td>\n",
       "      <td>N/A</td>\n",
       "    </tr>\n",
       "    <tr>\n",
       "      <th>4</th>\n",
       "      <td>5</td>\n",
       "      <td>07/02/2017</td>\n",
       "      <td>Inner Hour</td>\n",
       "      <td>Consumer Internet</td>\n",
       "      <td>Online Counselling Platform</td>\n",
       "      <td>Mumbai</td>\n",
       "      <td>Batlivala &amp; Karani Securities, Venture Works</td>\n",
       "      <td>Seed Funding</td>\n",
       "      <td>450,000</td>\n",
       "    </tr>\n",
       "    <tr>\n",
       "      <th>...</th>\n",
       "      <td>...</td>\n",
       "      <td>...</td>\n",
       "      <td>...</td>\n",
       "      <td>...</td>\n",
       "      <td>...</td>\n",
       "      <td>...</td>\n",
       "      <td>...</td>\n",
       "      <td>...</td>\n",
       "      <td>...</td>\n",
       "    </tr>\n",
       "    <tr>\n",
       "      <th>3506</th>\n",
       "      <td>97</td>\n",
       "      <td>30/06/2016</td>\n",
       "      <td>Campus Diaries</td>\n",
       "      <td>Consumer Internet</td>\n",
       "      <td>Student focussed Content Discovery portal</td>\n",
       "      <td>Bangalore</td>\n",
       "      <td>Aarin Capital</td>\n",
       "      <td>Seed Funding</td>\n",
       "      <td>220,000</td>\n",
       "    </tr>\n",
       "    <tr>\n",
       "      <th>3507</th>\n",
       "      <td>98</td>\n",
       "      <td>30/06/2016</td>\n",
       "      <td>Scripbox</td>\n",
       "      <td>Consumer Internet</td>\n",
       "      <td>Online Mutual Fund Investment platform</td>\n",
       "      <td>Bangalore</td>\n",
       "      <td>Omidyar Network, Accel Partners &amp; existing inv...</td>\n",
       "      <td>Private Equity</td>\n",
       "      <td>N/A</td>\n",
       "    </tr>\n",
       "    <tr>\n",
       "      <th>3508</th>\n",
       "      <td>99</td>\n",
       "      <td>30/06/2016</td>\n",
       "      <td>Biryani Blues</td>\n",
       "      <td>Food &amp; Beverage</td>\n",
       "      <td>QSR Chain</td>\n",
       "      <td>Gurgaon</td>\n",
       "      <td>Carpediem Capital &amp; Others</td>\n",
       "      <td>Private Equity</td>\n",
       "      <td>368,000</td>\n",
       "    </tr>\n",
       "    <tr>\n",
       "      <th>3509</th>\n",
       "      <td>100</td>\n",
       "      <td>30/06/2016</td>\n",
       "      <td></td>\n",
       "      <td></td>\n",
       "      <td></td>\n",
       "      <td></td>\n",
       "      <td></td>\n",
       "      <td></td>\n",
       "      <td></td>\n",
       "    </tr>\n",
       "    <tr>\n",
       "      <th>3510</th>\n",
       "      <td></td>\n",
       "      <td></td>\n",
       "      <td></td>\n",
       "      <td></td>\n",
       "      <td></td>\n",
       "      <td></td>\n",
       "      <td></td>\n",
       "      <td></td>\n",
       "      <td></td>\n",
       "    </tr>\n",
       "  </tbody>\n",
       "</table>\n",
       "<p>3511 rows × 9 columns</p>\n",
       "</div>"
      ],
      "text/plain": [
       "     Sr. No. Date (dd/mm/yyyy)    Startup Name Industry/ Vertical  \\\n",
       "0          1        02/02/2017         Clodura         Technology   \n",
       "1          2        03/02/2017    Stockroom.io  Consumer Internet   \n",
       "2          3        06/02/2017   Capital Float  Consumer Internet   \n",
       "3          4        06/02/2017  iManageMyHotel         Technology   \n",
       "4          5        07/02/2017      Inner Hour  Consumer Internet   \n",
       "...      ...               ...             ...                ...   \n",
       "3506      97        30/06/2016  Campus Diaries  Consumer Internet   \n",
       "3507      98        30/06/2016        Scripbox  Consumer Internet   \n",
       "3508      99        30/06/2016   Biryani Blues    Food & Beverage   \n",
       "3509     100        30/06/2016                                      \n",
       "3510                                                                \n",
       "\n",
       "                                   Sub-Vertical City / Location  \\\n",
       "0                   Intelligent Sales Assistant            Pune   \n",
       "1               Curated Platform for Developers       Hyderabad   \n",
       "2                       Online lending platform       Bangalore   \n",
       "3                     Hotel Management Solution         Kolkata   \n",
       "4                   Online Counselling Platform          Mumbai   \n",
       "...                                         ...             ...   \n",
       "3506  Student focussed Content Discovery portal       Bangalore   \n",
       "3507     Online Mutual Fund Investment platform       Bangalore   \n",
       "3508                                  QSR Chain         Gurgaon   \n",
       "3509                                                              \n",
       "3510                                                              \n",
       "\n",
       "                                        Investors’ Name Investment Type  \\\n",
       "0                                 Undisclosed Investors    Seed Funding   \n",
       "1                        Satya D Sinha, Gyanendra Singh    Seed Funding   \n",
       "2                                  IFMR Capital Finance  Private Equity   \n",
       "3                                   Jaarvis Accelerator    Seed Funding   \n",
       "4          Batlivala & Karani Securities, Venture Works    Seed Funding   \n",
       "...                                                 ...             ...   \n",
       "3506                                      Aarin Capital    Seed Funding   \n",
       "3507  Omidyar Network, Accel Partners & existing inv...  Private Equity   \n",
       "3508                         Carpediem Capital & Others  Private Equity   \n",
       "3509                                                                      \n",
       "3510                                                                      \n",
       "\n",
       "     Amount (in USD)  \n",
       "0                N/A  \n",
       "1                N/A  \n",
       "2          2,500,000  \n",
       "3                N/A  \n",
       "4            450,000  \n",
       "...              ...  \n",
       "3506         220,000  \n",
       "3507             N/A  \n",
       "3508         368,000  \n",
       "3509                  \n",
       "3510                  \n",
       "\n",
       "[3511 rows x 9 columns]"
      ]
     },
     "metadata": {},
     "output_type": "display_data"
    }
   ],
   "source": [
    "data  "
   ]
  },
  {
   "cell_type": "code",
   "execution_count": null,
   "metadata": {},
   "outputs": [
    {
     "data": {
      "text/plain": [
       "Index(['Sr. No.', 'Date (dd/mm/yyyy)', 'Startup Name', 'Industry/ Vertical',\n",
       "       'Sub-Vertical', 'City / Location', 'Investors’ Name', 'Investment Type',\n",
       "       'Amount (in USD)'],\n",
       "      dtype='object')"
      ]
     },
     "metadata": {},
     "output_type": "display_data"
    }
   ],
   "source": [
    "data_copy = data.copy()\n",
    "data.columns"
   ]
  },
  {
   "cell_type": "code",
   "execution_count": null,
   "metadata": {},
   "outputs": [
    {
     "data": {
      "text/plain": [
       "(3511, 9)"
      ]
     },
     "metadata": {},
     "output_type": "display_data"
    }
   ],
   "source": [
    "data = data_copy\n",
    "data = data.dropna(how='all')\n",
    "data.shape"
   ]
  },
  {
   "cell_type": "code",
   "execution_count": null,
   "metadata": {},
   "outputs": [
    {
     "name": "stdout",
     "output_type": "stream",
     "text": [
      "<class 'pandas.core.frame.DataFrame'>\n",
      "RangeIndex: 3511 entries, 0 to 3510\n",
      "Data columns (total 9 columns):\n",
      " #   Column              Non-Null Count  Dtype \n",
      "---  ------              --------------  ----- \n",
      " 0   Sr. No.             3511 non-null   object\n",
      " 1   Date (dd/mm/yyyy)   3511 non-null   object\n",
      " 2   Startup Name        3511 non-null   object\n",
      " 3   Industry/ Vertical  3511 non-null   object\n",
      " 4   Sub-Vertical        3511 non-null   object\n",
      " 5   City / Location     3511 non-null   object\n",
      " 6   Investors’ Name     3511 non-null   object\n",
      " 7   Investment Type     3337 non-null   object\n",
      " 8   Amount (in USD)     3334 non-null   object\n",
      "dtypes: object(9)\n",
      "memory usage: 247.0+ KB\n"
     ]
    }
   ],
   "source": [
    "data.info()"
   ]
  }
 ],
 "metadata": {
  "kernelspec": {
   "display_name": "Python 3.9.12 ('base')",
   "language": "python",
   "name": "python3"
  },
  "language_info": {
   "name": "python",
   "version": "3.9.12"
  },
  "orig_nbformat": 4,
  "vscode": {
   "interpreter": {
    "hash": "f98e109002dd4722329ed559d57eb7e5316a45d3ae7f7f0a5e7650cad879981b"
   }
  }
 },
 "nbformat": 4,
 "nbformat_minor": 2
}

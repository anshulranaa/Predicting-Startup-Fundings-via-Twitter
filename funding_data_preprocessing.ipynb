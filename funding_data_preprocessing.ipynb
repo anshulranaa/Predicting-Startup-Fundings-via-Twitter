{
 "cells": [
  {
   "cell_type": "code",
   "execution_count": 43,
   "metadata": {},
   "outputs": [],
   "source": [
    "import pandas as pd\n",
    "import numpy as np\n"
   ]
  },
  {
   "cell_type": "code",
   "execution_count": 47,
   "metadata": {},
   "outputs": [
    {
     "name": "stdout",
     "output_type": "stream",
     "text": [
      "2580\n"
     ]
    }
   ],
   "source": [
    "fund = pd.read_csv('startup_funding.csv')\n",
    "\n",
    "# sort the dataframe by year\n",
    "fund = fund.sort_values(by='Date', ascending=True)\n",
    "\n",
    "\n",
    "# keep only the first row of every company\n",
    "fund = fund.drop_duplicates(subset='StartupName', keep='first')\n",
    "\n",
    "\n",
    "\n",
    "#Rename columns StartupName to Company \n",
    "fund = fund.rename(columns={'StartupName': 'Company'})\n",
    "fund.drop(['Sr. No.','Date','IndustryVertical','SubVertical','CityLocation','InvestorsName','InvestmentType','AmountUSD','YearMonth','Month'],axis=1,inplace=True)\n",
    "fund.to_csv('startup_funding_cleaned.csv', index=False)\n",
    "\n",
    "\n",
    "print(len(fund))\n"
   ]
  },
  {
   "cell_type": "code",
   "execution_count": 16,
   "metadata": {},
   "outputs": [],
   "source": [
    "#Sort all the values based on the Year column\n",
    "sorted_data = fund[fund.columns].sort_values(by='Year')\n",
    "sorted_data.to_csv('sorted_funding.csv', index=False)"
   ]
  },
  {
   "cell_type": "code",
   "execution_count": 24,
   "metadata": {},
   "outputs": [],
   "source": [
    "# Filtering out the rows where 'NewAmountUSD' is greater than 0 and then finding the smallest 'Year' for each company\n",
    "# The column for company names is 'StartupName'. Let's now process the data according to the requirement.\n",
    "data = fund\n",
    "# Filtering out the data where 'NewAmountUSD' is greater than 0\n",
    "data_filtered = data[data['NewAmountUSD'] > 0]\n",
    "\n",
    "# Finding the smallest 'Year' for each company where 'NewAmountUSD' is greater than 0\n",
    "earliest_funding = data_filtered.groupby('StartupName').agg({'Year': 'min', 'NewAmountUSD': 'first'}).reset_index()\n",
    "\n",
    "# For companies with no funding data ('NewAmountUSD' > 0), we add them with a NewAmountUSD of 0\n",
    "companies_with_no_funding = data[~data['StartupName'].isin(earliest_funding['StartupName'])]['StartupName'].unique()\n",
    "no_funding_data = pd.DataFrame({'StartupName': companies_with_no_funding, 'Year': [0]*len(companies_with_no_funding), 'NewAmountUSD': [0]*len(companies_with_no_funding)})\n",
    "\n",
    "# Combining the data\n",
    "final_data = pd.concat([earliest_funding, no_funding_data], ignore_index=True)\n",
    "\n",
    "final_data.head()\n",
    "#Rename the column of StartupName to CompanyName\n",
    "final_data.rename(columns={'StartupName': 'Company'}, inplace=True)\n",
    "final_data.to_csv('final_funding.csv', index=False)\n"
   ]
  }
 ],
 "metadata": {
  "kernelspec": {
   "display_name": "Python 3",
   "language": "python",
   "name": "python3"
  },
  "language_info": {
   "codemirror_mode": {
    "name": "ipython",
    "version": 3
   },
   "file_extension": ".py",
   "mimetype": "text/x-python",
   "name": "python",
   "nbconvert_exporter": "python",
   "pygments_lexer": "ipython3",
   "version": "3.11.6"
  },
  "orig_nbformat": 4
 },
 "nbformat": 4,
 "nbformat_minor": 2
}
